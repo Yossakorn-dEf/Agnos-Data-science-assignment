{
  "nbformat": 4,
  "nbformat_minor": 0,
  "metadata": {
    "colab": {
      "provenance": []
    },
    "kernelspec": {
      "name": "python3",
      "display_name": "Python 3"
    },
    "language_info": {
      "name": "python"
    },
    "widgets": {
      "application/vnd.jupyter.widget-state+json": {
        "3aa1f31e2d094827a7cbe9d8a3c812cd": {
          "model_module": "@jupyter-widgets/controls",
          "model_name": "HBoxModel",
          "model_module_version": "1.5.0",
          "state": {
            "_dom_classes": [],
            "_model_module": "@jupyter-widgets/controls",
            "_model_module_version": "1.5.0",
            "_model_name": "HBoxModel",
            "_view_count": null,
            "_view_module": "@jupyter-widgets/controls",
            "_view_module_version": "1.5.0",
            "_view_name": "HBoxView",
            "box_style": "",
            "children": [
              "IPY_MODEL_2606b4f702af461e8ec1f6ab8426a714",
              "IPY_MODEL_688fdc3617e9459d859da6e8fcfa077d",
              "IPY_MODEL_affb92b589c5431484ad81a741fa8233"
            ],
            "layout": "IPY_MODEL_14d38c875a7941c7b8b9fae3c478ce76"
          }
        },
        "2606b4f702af461e8ec1f6ab8426a714": {
          "model_module": "@jupyter-widgets/controls",
          "model_name": "HTMLModel",
          "model_module_version": "1.5.0",
          "state": {
            "_dom_classes": [],
            "_model_module": "@jupyter-widgets/controls",
            "_model_module_version": "1.5.0",
            "_model_name": "HTMLModel",
            "_view_count": null,
            "_view_module": "@jupyter-widgets/controls",
            "_view_module_version": "1.5.0",
            "_view_name": "HTMLView",
            "description": "",
            "description_tooltip": null,
            "layout": "IPY_MODEL_b4bfe0a133d14b46b058895c93ef3ccf",
            "placeholder": "​",
            "style": "IPY_MODEL_cc1350be0fe742dd812c1d251df0fdcd",
            "value": "Loading checkpoint shards: 100%"
          }
        },
        "688fdc3617e9459d859da6e8fcfa077d": {
          "model_module": "@jupyter-widgets/controls",
          "model_name": "FloatProgressModel",
          "model_module_version": "1.5.0",
          "state": {
            "_dom_classes": [],
            "_model_module": "@jupyter-widgets/controls",
            "_model_module_version": "1.5.0",
            "_model_name": "FloatProgressModel",
            "_view_count": null,
            "_view_module": "@jupyter-widgets/controls",
            "_view_module_version": "1.5.0",
            "_view_name": "ProgressView",
            "bar_style": "success",
            "description": "",
            "description_tooltip": null,
            "layout": "IPY_MODEL_2bbb2319f7784e40ae27c20d524ca8ca",
            "max": 2,
            "min": 0,
            "orientation": "horizontal",
            "style": "IPY_MODEL_2f7751aeffd44b07ac508e1abce7258b",
            "value": 2
          }
        },
        "affb92b589c5431484ad81a741fa8233": {
          "model_module": "@jupyter-widgets/controls",
          "model_name": "HTMLModel",
          "model_module_version": "1.5.0",
          "state": {
            "_dom_classes": [],
            "_model_module": "@jupyter-widgets/controls",
            "_model_module_version": "1.5.0",
            "_model_name": "HTMLModel",
            "_view_count": null,
            "_view_module": "@jupyter-widgets/controls",
            "_view_module_version": "1.5.0",
            "_view_name": "HTMLView",
            "description": "",
            "description_tooltip": null,
            "layout": "IPY_MODEL_14e0df6ff49e479096377fb76c8b64a0",
            "placeholder": "​",
            "style": "IPY_MODEL_e65a6fe9c7c643d6b678d732508d2493",
            "value": " 2/2 [00:26&lt;00:00, 26.72s/it]"
          }
        },
        "14d38c875a7941c7b8b9fae3c478ce76": {
          "model_module": "@jupyter-widgets/base",
          "model_name": "LayoutModel",
          "model_module_version": "1.2.0",
          "state": {
            "_model_module": "@jupyter-widgets/base",
            "_model_module_version": "1.2.0",
            "_model_name": "LayoutModel",
            "_view_count": null,
            "_view_module": "@jupyter-widgets/base",
            "_view_module_version": "1.2.0",
            "_view_name": "LayoutView",
            "align_content": null,
            "align_items": null,
            "align_self": null,
            "border": null,
            "bottom": null,
            "display": null,
            "flex": null,
            "flex_flow": null,
            "grid_area": null,
            "grid_auto_columns": null,
            "grid_auto_flow": null,
            "grid_auto_rows": null,
            "grid_column": null,
            "grid_gap": null,
            "grid_row": null,
            "grid_template_areas": null,
            "grid_template_columns": null,
            "grid_template_rows": null,
            "height": null,
            "justify_content": null,
            "justify_items": null,
            "left": null,
            "margin": null,
            "max_height": null,
            "max_width": null,
            "min_height": null,
            "min_width": null,
            "object_fit": null,
            "object_position": null,
            "order": null,
            "overflow": null,
            "overflow_x": null,
            "overflow_y": null,
            "padding": null,
            "right": null,
            "top": null,
            "visibility": null,
            "width": null
          }
        },
        "b4bfe0a133d14b46b058895c93ef3ccf": {
          "model_module": "@jupyter-widgets/base",
          "model_name": "LayoutModel",
          "model_module_version": "1.2.0",
          "state": {
            "_model_module": "@jupyter-widgets/base",
            "_model_module_version": "1.2.0",
            "_model_name": "LayoutModel",
            "_view_count": null,
            "_view_module": "@jupyter-widgets/base",
            "_view_module_version": "1.2.0",
            "_view_name": "LayoutView",
            "align_content": null,
            "align_items": null,
            "align_self": null,
            "border": null,
            "bottom": null,
            "display": null,
            "flex": null,
            "flex_flow": null,
            "grid_area": null,
            "grid_auto_columns": null,
            "grid_auto_flow": null,
            "grid_auto_rows": null,
            "grid_column": null,
            "grid_gap": null,
            "grid_row": null,
            "grid_template_areas": null,
            "grid_template_columns": null,
            "grid_template_rows": null,
            "height": null,
            "justify_content": null,
            "justify_items": null,
            "left": null,
            "margin": null,
            "max_height": null,
            "max_width": null,
            "min_height": null,
            "min_width": null,
            "object_fit": null,
            "object_position": null,
            "order": null,
            "overflow": null,
            "overflow_x": null,
            "overflow_y": null,
            "padding": null,
            "right": null,
            "top": null,
            "visibility": null,
            "width": null
          }
        },
        "cc1350be0fe742dd812c1d251df0fdcd": {
          "model_module": "@jupyter-widgets/controls",
          "model_name": "DescriptionStyleModel",
          "model_module_version": "1.5.0",
          "state": {
            "_model_module": "@jupyter-widgets/controls",
            "_model_module_version": "1.5.0",
            "_model_name": "DescriptionStyleModel",
            "_view_count": null,
            "_view_module": "@jupyter-widgets/base",
            "_view_module_version": "1.2.0",
            "_view_name": "StyleView",
            "description_width": ""
          }
        },
        "2bbb2319f7784e40ae27c20d524ca8ca": {
          "model_module": "@jupyter-widgets/base",
          "model_name": "LayoutModel",
          "model_module_version": "1.2.0",
          "state": {
            "_model_module": "@jupyter-widgets/base",
            "_model_module_version": "1.2.0",
            "_model_name": "LayoutModel",
            "_view_count": null,
            "_view_module": "@jupyter-widgets/base",
            "_view_module_version": "1.2.0",
            "_view_name": "LayoutView",
            "align_content": null,
            "align_items": null,
            "align_self": null,
            "border": null,
            "bottom": null,
            "display": null,
            "flex": null,
            "flex_flow": null,
            "grid_area": null,
            "grid_auto_columns": null,
            "grid_auto_flow": null,
            "grid_auto_rows": null,
            "grid_column": null,
            "grid_gap": null,
            "grid_row": null,
            "grid_template_areas": null,
            "grid_template_columns": null,
            "grid_template_rows": null,
            "height": null,
            "justify_content": null,
            "justify_items": null,
            "left": null,
            "margin": null,
            "max_height": null,
            "max_width": null,
            "min_height": null,
            "min_width": null,
            "object_fit": null,
            "object_position": null,
            "order": null,
            "overflow": null,
            "overflow_x": null,
            "overflow_y": null,
            "padding": null,
            "right": null,
            "top": null,
            "visibility": null,
            "width": null
          }
        },
        "2f7751aeffd44b07ac508e1abce7258b": {
          "model_module": "@jupyter-widgets/controls",
          "model_name": "ProgressStyleModel",
          "model_module_version": "1.5.0",
          "state": {
            "_model_module": "@jupyter-widgets/controls",
            "_model_module_version": "1.5.0",
            "_model_name": "ProgressStyleModel",
            "_view_count": null,
            "_view_module": "@jupyter-widgets/base",
            "_view_module_version": "1.2.0",
            "_view_name": "StyleView",
            "bar_color": null,
            "description_width": ""
          }
        },
        "14e0df6ff49e479096377fb76c8b64a0": {
          "model_module": "@jupyter-widgets/base",
          "model_name": "LayoutModel",
          "model_module_version": "1.2.0",
          "state": {
            "_model_module": "@jupyter-widgets/base",
            "_model_module_version": "1.2.0",
            "_model_name": "LayoutModel",
            "_view_count": null,
            "_view_module": "@jupyter-widgets/base",
            "_view_module_version": "1.2.0",
            "_view_name": "LayoutView",
            "align_content": null,
            "align_items": null,
            "align_self": null,
            "border": null,
            "bottom": null,
            "display": null,
            "flex": null,
            "flex_flow": null,
            "grid_area": null,
            "grid_auto_columns": null,
            "grid_auto_flow": null,
            "grid_auto_rows": null,
            "grid_column": null,
            "grid_gap": null,
            "grid_row": null,
            "grid_template_areas": null,
            "grid_template_columns": null,
            "grid_template_rows": null,
            "height": null,
            "justify_content": null,
            "justify_items": null,
            "left": null,
            "margin": null,
            "max_height": null,
            "max_width": null,
            "min_height": null,
            "min_width": null,
            "object_fit": null,
            "object_position": null,
            "order": null,
            "overflow": null,
            "overflow_x": null,
            "overflow_y": null,
            "padding": null,
            "right": null,
            "top": null,
            "visibility": null,
            "width": null
          }
        },
        "e65a6fe9c7c643d6b678d732508d2493": {
          "model_module": "@jupyter-widgets/controls",
          "model_name": "DescriptionStyleModel",
          "model_module_version": "1.5.0",
          "state": {
            "_model_module": "@jupyter-widgets/controls",
            "_model_module_version": "1.5.0",
            "_model_name": "DescriptionStyleModel",
            "_view_count": null,
            "_view_module": "@jupyter-widgets/base",
            "_view_module_version": "1.2.0",
            "_view_name": "StyleView",
            "description_width": ""
          }
        }
      }
    }
  },
  "cells": [
    {
      "cell_type": "code",
      "execution_count": null,
      "metadata": {
        "id": "Ot1guts_MkaK"
      },
      "outputs": [],
      "source": [
        "!pip install -q gradio sentence-transformers faiss-cpu pandas pyarrow transformers accelerate bitsandbytes"
      ]
    },
    {
      "cell_type": "markdown",
      "source": [
        "#STEP 1"
      ],
      "metadata": {
        "id": "9DbHrzgBMq5A"
      }
    },
    {
      "cell_type": "code",
      "source": [
        "from google.colab import drive\n",
        "drive.mount('/content/drive')\n",
        "\n",
        "import os, time, numpy as np, pandas as pd, faiss\n",
        "from sentence_transformers import SentenceTransformer\n",
        "\n",
        "BASE_DIR   = \"/content/drive/MyDrive/agnos-rag\"\n",
        "INDEX_DIR  = os.path.join(BASE_DIR, \"index\")\n",
        "INDEX_PATH = os.path.join(INDEX_DIR, \"faiss.index\")\n",
        "META_PATH  = os.path.join(INDEX_DIR, \"meta.parquet\")\n",
        "\n",
        "meta = None\n",
        "index = None\n",
        "embedder = None\n",
        "\n",
        "def load_assets():\n",
        "\n",
        "    global meta, index, embedder\n",
        "    assert os.path.exists(META_PATH), f\"ไม่พบ {META_PATH}\"\n",
        "    assert os.path.exists(INDEX_PATH), f\"ไม่พบ {INDEX_PATH}\"\n",
        "\n",
        "    meta  = pd.read_parquet(META_PATH)\n",
        "    index = faiss.read_index(INDEX_PATH)\n",
        "\n",
        "    if embedder is None:\n",
        "        embedder_local = SentenceTransformer(\"BAAI/bge-small-en-v1.5\")\n",
        "    else:\n",
        "        embedder_local = embedder\n",
        "    embedder = embedder_local\n",
        "\n",
        "    return {\n",
        "        \"rows\": len(meta),\n",
        "        \"vectors\": index.ntotal\n",
        "    }\n",
        "\n",
        "def get_index_mtime():\n",
        "\n",
        "    def fmt(p):\n",
        "        ts = os.path.getmtime(p)\n",
        "        return time.strftime(\"%Y-%m-%d %H:%M:%S\", time.localtime(ts))\n",
        "    return f\"meta: {fmt(META_PATH)} | index: {fmt(INDEX_PATH)}\"\n",
        "\n",
        "stats = load_assets()\n",
        "print(f\"Loaded index: rows(meta)={stats['rows']} | vectors={stats['vectors']}\")\n",
        "print(\"Last modified:\", get_index_mtime())"
      ],
      "metadata": {
        "colab": {
          "base_uri": "https://localhost:8080/"
        },
        "id": "F_hKA0P7MsM4",
        "outputId": "3d7b3028-5215-4ae9-fabd-5deedae00bdd"
      },
      "execution_count": null,
      "outputs": [
        {
          "output_type": "stream",
          "name": "stdout",
          "text": [
            "Drive already mounted at /content/drive; to attempt to forcibly remount, call drive.mount(\"/content/drive\", force_remount=True).\n"
          ]
        },
        {
          "output_type": "stream",
          "name": "stderr",
          "text": [
            "/usr/local/lib/python3.12/dist-packages/huggingface_hub/utils/_auth.py:94: UserWarning: \n",
            "The secret `HF_TOKEN` does not exist in your Colab secrets.\n",
            "To authenticate with the Hugging Face Hub, create a token in your settings tab (https://huggingface.co/settings/tokens), set it as secret in your Google Colab and restart your session.\n",
            "You will be able to reuse this secret in all of your notebooks.\n",
            "Please note that authentication is recommended but still optional to access public models or datasets.\n",
            "  warnings.warn(\n"
          ]
        },
        {
          "output_type": "stream",
          "name": "stdout",
          "text": [
            "Loaded index: rows(meta)=71 | vectors=71\n",
            "Last modified: meta: 2025-09-17 16:19:53 | index: 2025-09-17 16:19:52\n"
          ]
        }
      ]
    },
    {
      "cell_type": "markdown",
      "source": [
        "#STEP 2: Retrieval (L2 ตาม index ที่สร้างใน 02)"
      ],
      "metadata": {
        "id": "dQC1E-J-M6IS"
      }
    },
    {
      "cell_type": "code",
      "source": [
        "def do_retrieve_inline(query: str, top_k: int = 6):\n",
        "\n",
        "    q_emb = embedder.encode([query])\n",
        "    D, I = index.search(np.array(q_emb, dtype=\"float32\"), k=min(int(top_k), index.ntotal))\n",
        "\n",
        "    hits = []\n",
        "    for idx, dist in zip(I[0], D[0]):\n",
        "        if idx == -1:\n",
        "            continue\n",
        "        r = meta.iloc[int(idx)]\n",
        "        hits.append({\n",
        "            \"title\": (r.get(\"title\", \"\") or \"\").strip(),\n",
        "            \"url\": r.get(\"url\", \"\"),\n",
        "            \"content_chunk\": r.get(\"content_chunk\", \"\") or \"\",\n",
        "            \"author\": r.get(\"author\", None),\n",
        "            \"date\": r.get(\"date\", None),\n",
        "            \"score_l2\": float(dist),\n",
        "        })\n",
        "    return hits"
      ],
      "metadata": {
        "id": "Ge5qjMc4M7gV"
      },
      "execution_count": null,
      "outputs": []
    },
    {
      "cell_type": "markdown",
      "source": [
        "#STEP 3: เตรียม LLM"
      ],
      "metadata": {
        "id": "ypGYIMI3ND-2"
      }
    },
    {
      "cell_type": "code",
      "source": [
        "from transformers import AutoModelForCausalLM, AutoTokenizer, pipeline\n",
        "import torch\n",
        "\n",
        "LLM_NAME = \"microsoft/Phi-3-mini-4k-instruct\"\n",
        "dtype = torch.float16 if torch.cuda.is_available() else torch.float32\n",
        "tok = AutoTokenizer.from_pretrained(LLM_NAME, trust_remote_code=True)\n",
        "llm = AutoModelForCausalLM.from_pretrained(LLM_NAME, torch_dtype=dtype, device_map=\"auto\")\n",
        "gen = pipeline(\"text-generation\", model=llm, tokenizer=tok, device_map=\"auto\")\n",
        "\n",
        "SYSTEM_INSTR = (\n",
        "    \"คุณเป็นผู้ช่วยที่ตอบบนพื้นฐานของแหล่งข้อมูลจาก Agnos Health Forum เท่านั้น \"\n",
        "    \"ยกคำตอบอย่างมีเหตุผล ชัดเจน และใส่เลขอ้างอิง [1], [2] … ต่อท้ายประโยคที่เกี่ยวข้อง \"\n",
        "    \"ถ้าข้อมูลไม่พอ ให้บอกว่าไม่พบในฐานข้อมูลแทนการเดา\"\n",
        ")\n",
        "\n",
        "def build_context_and_citations(hits):\n",
        "    ctx_lines, refs = [], []\n",
        "    for i, h in enumerate(hits, start=1):\n",
        "        ctx_lines.append(f\"[{i}] {h['content_chunk']}\")\n",
        "        ti = (h['title'] or \"(no title)\")\n",
        "        refs.append(f\"[{i}] {ti} — {h['url']}\")\n",
        "    return \"\\n\\n\".join(ctx_lines), \"\\n\".join(refs)\n",
        "\n",
        "def make_prompt(question: str, hits, answer_style=\"Concise\"):\n",
        "    context_text, refs_text = build_context_and_citations(hits)\n",
        "    style_hint = {\n",
        "        \"Concise\": \"ตอบสั้น กระชับ ตรงประเด็น ไม่เกิน 6 บรรทัด\",\n",
        "        \"Detailed\": \"ตอบละเอียด มีหัวข้อย่อยและ bullet ชัดเจน\",\n",
        "    }.get(answer_style, \"ตอบชัดเจนเหมาะสม\")\n",
        "    user = (\n",
        "        f\"คำถาม: {question}\\n\\n\"\n",
        "        f\"บริบท (อ้างอิงได้):\\n{context_text}\\n\\n\"\n",
        "        f\"อย่าคิดเองหากไม่มีในบริบท ให้บอกว่าไม่พบข้อมูล\\n\"\n",
        "        f\"สไตล์คำตอบ: {style_hint}\\n\"\n",
        "        f\"อย่าลืมใส่ [เลขอ้างอิง] ต่อท้ายประโยคที่ใช้อ้างอิง\\n\"\n",
        "    )\n",
        "    return SYSTEM_INSTR, user, refs_text\n",
        "\n",
        "def generate_answer(question: str, hits, answer_style=\"Concise\", max_new_tokens=320):\n",
        "    if not hits:\n",
        "        return \"ไม่พบข้อมูลในฐานความรู้ที่เกี่ยวข้องกับคำถามนี้\", \"\"\n",
        "    system, user, refs = make_prompt(question, hits, answer_style)\n",
        "    if hasattr(tok, \"apply_chat_template\"):\n",
        "        prompt = tok.apply_chat_template(\n",
        "            [{\"role\":\"system\",\"content\":system},{\"role\":\"user\",\"content\":user}],\n",
        "            tokenize=False, add_generation_prompt=True\n",
        "        )\n",
        "    else:\n",
        "        prompt = f\"<|system|>\\n{system}\\n<|user|>\\n{user}\\n<|assistant|>\\n\"\n",
        "    out = gen(\n",
        "        prompt,\n",
        "        max_new_tokens=max_new_tokens,\n",
        "        do_sample=True,\n",
        "        temperature=0.2,\n",
        "        top_p=0.9,\n",
        "        pad_token_id=tok.eos_token_id\n",
        "    )[0][\"generated_text\"]\n",
        "    if out.startswith(prompt):\n",
        "        out = out[len(prompt):]\n",
        "    return out.strip(), refs"
      ],
      "metadata": {
        "colab": {
          "base_uri": "https://localhost:8080/",
          "height": 101,
          "referenced_widgets": [
            "3aa1f31e2d094827a7cbe9d8a3c812cd",
            "2606b4f702af461e8ec1f6ab8426a714",
            "688fdc3617e9459d859da6e8fcfa077d",
            "affb92b589c5431484ad81a741fa8233",
            "14d38c875a7941c7b8b9fae3c478ce76",
            "b4bfe0a133d14b46b058895c93ef3ccf",
            "cc1350be0fe742dd812c1d251df0fdcd",
            "2bbb2319f7784e40ae27c20d524ca8ca",
            "2f7751aeffd44b07ac508e1abce7258b",
            "14e0df6ff49e479096377fb76c8b64a0",
            "e65a6fe9c7c643d6b678d732508d2493"
          ]
        },
        "id": "Zmwkl_t4NFRH",
        "outputId": "f1b5f24c-853b-47c7-c3de-7e76e740a290"
      },
      "execution_count": null,
      "outputs": [
        {
          "output_type": "stream",
          "name": "stderr",
          "text": [
            "`torch_dtype` is deprecated! Use `dtype` instead!\n"
          ]
        },
        {
          "output_type": "display_data",
          "data": {
            "text/plain": [
              "Loading checkpoint shards:   0%|          | 0/2 [00:00<?, ?it/s]"
            ],
            "application/vnd.jupyter.widget-view+json": {
              "version_major": 2,
              "version_minor": 0,
              "model_id": "3aa1f31e2d094827a7cbe9d8a3c812cd"
            }
          },
          "metadata": {}
        },
        {
          "output_type": "stream",
          "name": "stderr",
          "text": [
            "WARNING:accelerate.big_modeling:Some parameters are on the meta device because they were offloaded to the disk and cpu.\n",
            "Device set to use cpu\n"
          ]
        }
      ]
    },
    {
      "cell_type": "markdown",
      "source": [
        "#STEP 4: Compose Prompt + Generate"
      ],
      "metadata": {
        "id": "HEhLa5wTNPm3"
      }
    },
    {
      "cell_type": "code",
      "source": [
        "import gradio as gr\n",
        "\n",
        "def rag_ask(question, top_k=6, style=\"Concise\"):\n",
        "    if not question or not question.strip():\n",
        "        return \" กรุณาพิมพ์คำถาม\", \"\", get_index_mtime()\n",
        "    try:\n",
        "        hits = do_retrieve_inline(question, top_k=int(top_k))\n",
        "        if not hits:\n",
        "            return \"ไม่พบข้อมูลที่เกี่ยวข้องในฐานความรู้\", \"\", get_index_mtime()\n",
        "\n",
        "\n",
        "        for h in hits:\n",
        "            if len(h[\"content_chunk\"]) > 1200:\n",
        "                h[\"content_chunk\"] = h[\"content_chunk\"][:1200] + \" ...\"\n",
        "\n",
        "        answer, _ = generate_answer(question, hits, answer_style=style)\n",
        "\n",
        "        # citations\n",
        "        src_md = []\n",
        "        for i, h in enumerate(hits, 1):\n",
        "            title = h[\"title\"] if h[\"title\"] else \"(no title)\"\n",
        "            src_md.append(f\"**[{i}] {title}**  \\n{h['url']}\")\n",
        "        return answer, \"\\n\\n\".join(src_md), get_index_mtime()\n",
        "    except Exception as e:\n",
        "        return f\" Error: {e}\", \"\", get_index_mtime()\n",
        "\n",
        "def on_reload():\n",
        "    stats = load_assets()\n",
        "    return f\"Reloaded  rows(meta)={stats['rows']} | vectors={stats['vectors']}\", get_index_mtime()\n",
        "\n",
        "with gr.Blocks(title=\"Agnos Forum RAG Chat\") as demo:\n",
        "    gr.Markdown(\"## Agnos Forum RAG Chat\\nดึง index ล่าสุดอัตโนมัติเมื่อเปิด และสามารถ Reload ได้ด้วยปุ่มด้านขวา\")\n",
        "\n",
        "    with gr.Row():\n",
        "        q = gr.Textbox(label=\"คำถาม\", placeholder=\"พิมพ์คำถามที่นี่…\", lines=3)\n",
        "    with gr.Row():\n",
        "        k = gr.Slider(3, 12, value=6, step=1, label=\"จำนวนชิ้นส่วนบริบท (Top-K)\")\n",
        "        style = gr.Radio([\"Concise\",\"Detailed\"], value=\"Concise\", label=\"สไตล์คำตอบ\")\n",
        "\n",
        "    with gr.Row():\n",
        "        ask_btn = gr.Button(\"ถาม\", variant=\"primary\")\n",
        "        reload_btn = gr.Button(\"Reload Index\")\n",
        "        mtime_box = gr.Textbox(label=\"Index last modified\", value=get_index_mtime(), interactive=False)\n",
        "\n",
        "    ans = gr.Markdown(label=\"คำตอบ\")\n",
        "    src = gr.Markdown(label=\"แหล่งอ้างอิง (Citations)\")\n",
        "\n",
        "    ask_btn.click(fn=rag_ask, inputs=[q, k, style], outputs=[ans, src, mtime_box])\n",
        "    reload_btn.click(fn=on_reload, inputs=None, outputs=[ans, mtime_box])\n",
        "\n",
        "demo.launch(share=True, debug=True)"
      ],
      "metadata": {
        "colab": {
          "base_uri": "https://localhost:8080/",
          "height": 610
        },
        "id": "jEnLSk9NNQZt",
        "outputId": "f455c091-df01-4d36-9661-6c9def5f6ab3"
      },
      "execution_count": null,
      "outputs": [
        {
          "output_type": "stream",
          "name": "stdout",
          "text": [
            "Colab notebook detected. This cell will run indefinitely so that you can see errors and logs. To turn off, set debug=False in launch().\n",
            "* Running on public URL: https://dfc1d9a2fd9934f928.gradio.live\n",
            "\n",
            "This share link expires in 1 week. For free permanent hosting and GPU upgrades, run `gradio deploy` from the terminal in the working directory to deploy to Hugging Face Spaces (https://huggingface.co/spaces)\n"
          ]
        },
        {
          "output_type": "display_data",
          "data": {
            "text/plain": [
              "<IPython.core.display.HTML object>"
            ],
            "text/html": [
              "<div><iframe src=\"https://dfc1d9a2fd9934f928.gradio.live\" width=\"100%\" height=\"500\" allow=\"autoplay; camera; microphone; clipboard-read; clipboard-write;\" frameborder=\"0\" allowfullscreen></iframe></div>"
            ]
          },
          "metadata": {}
        }
      ]
    }
  ]
}