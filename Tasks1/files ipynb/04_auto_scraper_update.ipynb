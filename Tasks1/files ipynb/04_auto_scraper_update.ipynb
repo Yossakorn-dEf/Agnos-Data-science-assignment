{
  "nbformat": 4,
  "nbformat_minor": 0,
  "metadata": {
    "colab": {
      "provenance": []
    },
    "kernelspec": {
      "name": "python3",
      "display_name": "Python 3"
    },
    "language_info": {
      "name": "python"
    },
    "widgets": {
      "application/vnd.jupyter.widget-state+json": {
        "984b7c9d767746038cc7c95a7e8c81fc": {
          "model_module": "@jupyter-widgets/controls",
          "model_name": "HBoxModel",
          "model_module_version": "1.5.0",
          "state": {
            "_dom_classes": [],
            "_model_module": "@jupyter-widgets/controls",
            "_model_module_version": "1.5.0",
            "_model_name": "HBoxModel",
            "_view_count": null,
            "_view_module": "@jupyter-widgets/controls",
            "_view_module_version": "1.5.0",
            "_view_name": "HBoxView",
            "box_style": "",
            "children": [
              "IPY_MODEL_aa684400f31146d3b78aebd5c292db70",
              "IPY_MODEL_5862f5bea426483dac70fe9617498354",
              "IPY_MODEL_939d2b37cbbe4a8c90c9f01370868d5e"
            ],
            "layout": "IPY_MODEL_43f4dc3516cb4e66842273fdb1cebde9"
          }
        },
        "aa684400f31146d3b78aebd5c292db70": {
          "model_module": "@jupyter-widgets/controls",
          "model_name": "HTMLModel",
          "model_module_version": "1.5.0",
          "state": {
            "_dom_classes": [],
            "_model_module": "@jupyter-widgets/controls",
            "_model_module_version": "1.5.0",
            "_model_name": "HTMLModel",
            "_view_count": null,
            "_view_module": "@jupyter-widgets/controls",
            "_view_module_version": "1.5.0",
            "_view_name": "HTMLView",
            "description": "",
            "description_tooltip": null,
            "layout": "IPY_MODEL_b985dc3eced141f985101e8f86162547",
            "placeholder": "​",
            "style": "IPY_MODEL_4e74878022044d93804d8162947d99a4",
            "value": "Batches: 100%"
          }
        },
        "5862f5bea426483dac70fe9617498354": {
          "model_module": "@jupyter-widgets/controls",
          "model_name": "FloatProgressModel",
          "model_module_version": "1.5.0",
          "state": {
            "_dom_classes": [],
            "_model_module": "@jupyter-widgets/controls",
            "_model_module_version": "1.5.0",
            "_model_name": "FloatProgressModel",
            "_view_count": null,
            "_view_module": "@jupyter-widgets/controls",
            "_view_module_version": "1.5.0",
            "_view_name": "ProgressView",
            "bar_style": "success",
            "description": "",
            "description_tooltip": null,
            "layout": "IPY_MODEL_878b14d9b04c4cdfafdd2bcf999cf408",
            "max": 3,
            "min": 0,
            "orientation": "horizontal",
            "style": "IPY_MODEL_a99bb53d75474f20a713cc0f8e0356d0",
            "value": 3
          }
        },
        "939d2b37cbbe4a8c90c9f01370868d5e": {
          "model_module": "@jupyter-widgets/controls",
          "model_name": "HTMLModel",
          "model_module_version": "1.5.0",
          "state": {
            "_dom_classes": [],
            "_model_module": "@jupyter-widgets/controls",
            "_model_module_version": "1.5.0",
            "_model_name": "HTMLModel",
            "_view_count": null,
            "_view_module": "@jupyter-widgets/controls",
            "_view_module_version": "1.5.0",
            "_view_name": "HTMLView",
            "description": "",
            "description_tooltip": null,
            "layout": "IPY_MODEL_54cd11dd499c47aabb5e0de71cca044a",
            "placeholder": "​",
            "style": "IPY_MODEL_a9b54e16d7734582bd8d225e595f32e3",
            "value": " 3/3 [00:05&lt;00:00,  1.47s/it]"
          }
        },
        "43f4dc3516cb4e66842273fdb1cebde9": {
          "model_module": "@jupyter-widgets/base",
          "model_name": "LayoutModel",
          "model_module_version": "1.2.0",
          "state": {
            "_model_module": "@jupyter-widgets/base",
            "_model_module_version": "1.2.0",
            "_model_name": "LayoutModel",
            "_view_count": null,
            "_view_module": "@jupyter-widgets/base",
            "_view_module_version": "1.2.0",
            "_view_name": "LayoutView",
            "align_content": null,
            "align_items": null,
            "align_self": null,
            "border": null,
            "bottom": null,
            "display": null,
            "flex": null,
            "flex_flow": null,
            "grid_area": null,
            "grid_auto_columns": null,
            "grid_auto_flow": null,
            "grid_auto_rows": null,
            "grid_column": null,
            "grid_gap": null,
            "grid_row": null,
            "grid_template_areas": null,
            "grid_template_columns": null,
            "grid_template_rows": null,
            "height": null,
            "justify_content": null,
            "justify_items": null,
            "left": null,
            "margin": null,
            "max_height": null,
            "max_width": null,
            "min_height": null,
            "min_width": null,
            "object_fit": null,
            "object_position": null,
            "order": null,
            "overflow": null,
            "overflow_x": null,
            "overflow_y": null,
            "padding": null,
            "right": null,
            "top": null,
            "visibility": null,
            "width": null
          }
        },
        "b985dc3eced141f985101e8f86162547": {
          "model_module": "@jupyter-widgets/base",
          "model_name": "LayoutModel",
          "model_module_version": "1.2.0",
          "state": {
            "_model_module": "@jupyter-widgets/base",
            "_model_module_version": "1.2.0",
            "_model_name": "LayoutModel",
            "_view_count": null,
            "_view_module": "@jupyter-widgets/base",
            "_view_module_version": "1.2.0",
            "_view_name": "LayoutView",
            "align_content": null,
            "align_items": null,
            "align_self": null,
            "border": null,
            "bottom": null,
            "display": null,
            "flex": null,
            "flex_flow": null,
            "grid_area": null,
            "grid_auto_columns": null,
            "grid_auto_flow": null,
            "grid_auto_rows": null,
            "grid_column": null,
            "grid_gap": null,
            "grid_row": null,
            "grid_template_areas": null,
            "grid_template_columns": null,
            "grid_template_rows": null,
            "height": null,
            "justify_content": null,
            "justify_items": null,
            "left": null,
            "margin": null,
            "max_height": null,
            "max_width": null,
            "min_height": null,
            "min_width": null,
            "object_fit": null,
            "object_position": null,
            "order": null,
            "overflow": null,
            "overflow_x": null,
            "overflow_y": null,
            "padding": null,
            "right": null,
            "top": null,
            "visibility": null,
            "width": null
          }
        },
        "4e74878022044d93804d8162947d99a4": {
          "model_module": "@jupyter-widgets/controls",
          "model_name": "DescriptionStyleModel",
          "model_module_version": "1.5.0",
          "state": {
            "_model_module": "@jupyter-widgets/controls",
            "_model_module_version": "1.5.0",
            "_model_name": "DescriptionStyleModel",
            "_view_count": null,
            "_view_module": "@jupyter-widgets/base",
            "_view_module_version": "1.2.0",
            "_view_name": "StyleView",
            "description_width": ""
          }
        },
        "878b14d9b04c4cdfafdd2bcf999cf408": {
          "model_module": "@jupyter-widgets/base",
          "model_name": "LayoutModel",
          "model_module_version": "1.2.0",
          "state": {
            "_model_module": "@jupyter-widgets/base",
            "_model_module_version": "1.2.0",
            "_model_name": "LayoutModel",
            "_view_count": null,
            "_view_module": "@jupyter-widgets/base",
            "_view_module_version": "1.2.0",
            "_view_name": "LayoutView",
            "align_content": null,
            "align_items": null,
            "align_self": null,
            "border": null,
            "bottom": null,
            "display": null,
            "flex": null,
            "flex_flow": null,
            "grid_area": null,
            "grid_auto_columns": null,
            "grid_auto_flow": null,
            "grid_auto_rows": null,
            "grid_column": null,
            "grid_gap": null,
            "grid_row": null,
            "grid_template_areas": null,
            "grid_template_columns": null,
            "grid_template_rows": null,
            "height": null,
            "justify_content": null,
            "justify_items": null,
            "left": null,
            "margin": null,
            "max_height": null,
            "max_width": null,
            "min_height": null,
            "min_width": null,
            "object_fit": null,
            "object_position": null,
            "order": null,
            "overflow": null,
            "overflow_x": null,
            "overflow_y": null,
            "padding": null,
            "right": null,
            "top": null,
            "visibility": null,
            "width": null
          }
        },
        "a99bb53d75474f20a713cc0f8e0356d0": {
          "model_module": "@jupyter-widgets/controls",
          "model_name": "ProgressStyleModel",
          "model_module_version": "1.5.0",
          "state": {
            "_model_module": "@jupyter-widgets/controls",
            "_model_module_version": "1.5.0",
            "_model_name": "ProgressStyleModel",
            "_view_count": null,
            "_view_module": "@jupyter-widgets/base",
            "_view_module_version": "1.2.0",
            "_view_name": "StyleView",
            "bar_color": null,
            "description_width": ""
          }
        },
        "54cd11dd499c47aabb5e0de71cca044a": {
          "model_module": "@jupyter-widgets/base",
          "model_name": "LayoutModel",
          "model_module_version": "1.2.0",
          "state": {
            "_model_module": "@jupyter-widgets/base",
            "_model_module_version": "1.2.0",
            "_model_name": "LayoutModel",
            "_view_count": null,
            "_view_module": "@jupyter-widgets/base",
            "_view_module_version": "1.2.0",
            "_view_name": "LayoutView",
            "align_content": null,
            "align_items": null,
            "align_self": null,
            "border": null,
            "bottom": null,
            "display": null,
            "flex": null,
            "flex_flow": null,
            "grid_area": null,
            "grid_auto_columns": null,
            "grid_auto_flow": null,
            "grid_auto_rows": null,
            "grid_column": null,
            "grid_gap": null,
            "grid_row": null,
            "grid_template_areas": null,
            "grid_template_columns": null,
            "grid_template_rows": null,
            "height": null,
            "justify_content": null,
            "justify_items": null,
            "left": null,
            "margin": null,
            "max_height": null,
            "max_width": null,
            "min_height": null,
            "min_width": null,
            "object_fit": null,
            "object_position": null,
            "order": null,
            "overflow": null,
            "overflow_x": null,
            "overflow_y": null,
            "padding": null,
            "right": null,
            "top": null,
            "visibility": null,
            "width": null
          }
        },
        "a9b54e16d7734582bd8d225e595f32e3": {
          "model_module": "@jupyter-widgets/controls",
          "model_name": "DescriptionStyleModel",
          "model_module_version": "1.5.0",
          "state": {
            "_model_module": "@jupyter-widgets/controls",
            "_model_module_version": "1.5.0",
            "_model_name": "DescriptionStyleModel",
            "_view_count": null,
            "_view_module": "@jupyter-widgets/base",
            "_view_module_version": "1.2.0",
            "_view_name": "StyleView",
            "description_width": ""
          }
        }
      }
    }
  },
  "cells": [
    {
      "cell_type": "code",
      "execution_count": null,
      "metadata": {
        "colab": {
          "base_uri": "https://localhost:8080/"
        },
        "id": "VeHmGUkRTaE_",
        "outputId": "3651c014-a075-4e9b-a5a8-22355495250f"
      },
      "outputs": [
        {
          "output_type": "stream",
          "name": "stdout",
          "text": [
            "\u001b[2K   \u001b[90m━━━━━━━━━━━━━━━━━━━━━━━━━━━━━━━━━━━━━━━━\u001b[0m \u001b[32m45.9/45.9 MB\u001b[0m \u001b[31m20.0 MB/s\u001b[0m eta \u001b[36m0:00:00\u001b[0m\n",
            "\u001b[2K   \u001b[90m━━━━━━━━━━━━━━━━━━━━━━━━━━━━━━━━━━━━━━━━\u001b[0m \u001b[32m107.4/107.4 kB\u001b[0m \u001b[31m7.6 MB/s\u001b[0m eta \u001b[36m0:00:00\u001b[0m\n",
            "\u001b[?25herror: unknown option '-q'\n"
          ]
        }
      ],
      "source": [
        "!pip install -q playwright bs4 nest_asyncio tldextract\n",
        "!playwright install chromium -q"
      ]
    },
    {
      "cell_type": "markdown",
      "source": [
        "#STEP 1: Config"
      ],
      "metadata": {
        "id": "mYA-3SksTzR_"
      }
    },
    {
      "cell_type": "code",
      "source": [
        "import os, re, urllib.parse, asyncio\n",
        "from datetime import datetime, timezone, timedelta\n",
        "from bs4 import BeautifulSoup\n",
        "from playwright.async_api import async_playwright\n",
        "import nest_asyncio, tldextract\n",
        "\n",
        "nest_asyncio.apply()\n",
        "\n",
        "BASE_URL = \"https://www.agnoshealth.com/forums\"\n",
        "RAW_DIR = \"/content/drive/MyDrive/agnos-rag/data/raw\"\n",
        "os.makedirs(RAW_DIR, exist_ok=True)\n",
        "\n",
        "def slugify(text, maxlen=60):\n",
        "    text = re.sub(r\"\\s+\", \"-\", text.strip())\n",
        "    text = re.sub(r\"[^A-Za-z0-9\\-]+\", \"\", text)\n",
        "    text = re.sub(r\"-{2,}\", \"-\", text).strip(\"-\")\n",
        "    return text[:maxlen] if text else \"untitled\"\n",
        "\n",
        "def abs_url(base, href):\n",
        "    return urllib.parse.urljoin(base, href) if href else None\n",
        "\n",
        "def now_iso_bkk():\n",
        "    return datetime.now(timezone(timedelta(hours=7))).isoformat()\n"
      ],
      "metadata": {
        "id": "hhai_k6aTxJJ"
      },
      "execution_count": null,
      "outputs": []
    },
    {
      "cell_type": "markdown",
      "source": [
        "#STEP 2: Scrape forum auto-update"
      ],
      "metadata": {
        "id": "XBh0QZaTT0I0"
      }
    },
    {
      "cell_type": "code",
      "source": [
        "!playwright install"
      ],
      "metadata": {
        "colab": {
          "base_uri": "https://localhost:8080/"
        },
        "id": "POr9-1mTUBEW",
        "outputId": "b061420c-2e69-4d3a-a824-c87d77f0151a"
      },
      "execution_count": null,
      "outputs": [
        {
          "output_type": "stream",
          "name": "stdout",
          "text": [
            "Playwright Host validation warning: \n",
            "╔══════════════════════════════════════════════════════╗\n",
            "║ Host system is missing dependencies to run browsers. ║\n",
            "║ Missing libraries:                                   ║\n",
            "║     libwoff2dec.so.1.0.2                             ║\n",
            "║     libgstgl-1.0.so.0                                ║\n",
            "║     libgstcodecparsers-1.0.so.0                      ║\n",
            "║     libavif.so.13                                    ║\n",
            "║     libharfbuzz-icu.so.0                             ║\n",
            "║     libenchant-2.so.2                                ║\n",
            "║     libsecret-1.so.0                                 ║\n",
            "║     libhyphen.so.0                                   ║\n",
            "║     libmanette-0.2.so.0                              ║\n",
            "╚══════════════════════════════════════════════════════╝\n",
            "    at validateDependenciesLinux (/usr/local/lib/python3.12/dist-packages/playwright/driver/package/lib/server/registry/dependencies.js:269:9)\n",
            "\u001b[90m    at process.processTicksAndRejections (node:internal/process/task_queues:105:5)\u001b[39m\n",
            "    at async Registry._validateHostRequirements (/usr/local/lib/python3.12/dist-packages/playwright/driver/package/lib/server/registry/index.js:934:14)\n",
            "    at async Registry._validateHostRequirementsForExecutableIfNeeded (/usr/local/lib/python3.12/dist-packages/playwright/driver/package/lib/server/registry/index.js:1056:7)\n",
            "    at async Registry.validateHostRequirementsForExecutablesIfNeeded (/usr/local/lib/python3.12/dist-packages/playwright/driver/package/lib/server/registry/index.js:1045:7)\n",
            "    at async i.<anonymous> (/usr/local/lib/python3.12/dist-packages/playwright/driver/package/lib/cli/program.js:217:7)\n"
          ]
        }
      ]
    },
    {
      "cell_type": "code",
      "source": [
        "async def scrape_forum_update(max_threads=5):\n",
        "    async with async_playwright() as p:\n",
        "        browser = await p.chromium.launch(headless=True)\n",
        "        page = await browser.new_page(user_agent=\"Mozilla/5.0 (Colab/Playwright)\")\n",
        "\n",
        "        # ไปที่หน้า forum home\n",
        "        await page.goto(BASE_URL, wait_until=\"networkidle\")\n",
        "        home_html = await page.content()\n",
        "\n",
        "        ts = datetime.now().strftime(\"%Y%m%d-%H%M%S\")\n",
        "        home_path = os.path.join(RAW_DIR, f\"home_{ts}.html\")\n",
        "        with open(home_path, \"w\", encoding=\"utf-8\") as f:\n",
        "            f.write(home_html)\n",
        "        print(f\" Saved forum home: {home_path}\")\n",
        "\n",
        "        # หา links\n",
        "        soup = BeautifulSoup(home_html, \"html.parser\")\n",
        "        anchors = soup.find_all(\"a\")\n",
        "        candidates = []\n",
        "        seen = set()\n",
        "        for a in anchors:\n",
        "            text = (a.get_text(strip=True) or \"\")\n",
        "            href = a.get(\"href\")\n",
        "            if not href: continue\n",
        "            url = abs_url(BASE_URL, href)\n",
        "            if not url: continue\n",
        "            if url in seen: continue\n",
        "            if \"/forums/\" in url or \"/thread\" in url:\n",
        "                seen.add(url)\n",
        "                candidates.append((text, url))\n",
        "\n",
        "        threads = candidates[:max_threads]\n",
        "\n",
        "        for i, (title, url) in enumerate(threads, 1):\n",
        "            await page.goto(url, wait_until=\"networkidle\")\n",
        "            html = await page.content()\n",
        "            fname = f\"thread_{i:04d}_{slugify(title)}_{ts}.html\"\n",
        "            fpath = os.path.join(RAW_DIR, fname)\n",
        "\n",
        "            meta = (\n",
        "                \"<!--\\nMETA:\\n\"\n",
        "                f\"source_url: {url}\\n\"\n",
        "                f\"title: {title}\\n\"\n",
        "                f\"scraped_at: {now_iso_bkk()}\\n\"\n",
        "                \"-->\\n\"\n",
        "            )\n",
        "\n",
        "            with open(fpath, \"w\", encoding=\"utf-8\") as f:\n",
        "                f.write(meta + html)\n",
        "\n",
        "            print(f\"Saved thread {i}: {fpath}\")\n",
        "\n",
        "        await browser.close()\n",
        "\n",
        "await scrape_forum_update(max_threads=5)"
      ],
      "metadata": {
        "colab": {
          "base_uri": "https://localhost:8080/"
        },
        "id": "XnxAnLlAT2Jm",
        "outputId": "76a2fbe5-9366-48ec-90cc-15100a82d527"
      },
      "execution_count": null,
      "outputs": [
        {
          "output_type": "stream",
          "name": "stdout",
          "text": [
            " Saved forum home: /content/drive/MyDrive/agnos-rag/data/raw/home_20250917-154704.html\n",
            "Saved thread 1: /content/drive/MyDrive/agnos-rag/data/raw/thread_0001_20-Acute-pericarditis72520222-15-8_20250917-154704.html\n",
            "Saved thread 2: /content/drive/MyDrive/agnos-rag/data/raw/thread_0002_24-Dermatitis-unspecified7222022-5_20250917-154704.html\n",
            "Saved thread 3: /content/drive/MyDrive/agnos-rag/data/raw/thread_0003_23-Major-depressive-disorder21820243-2-3-5_20250917-154704.html\n",
            "Saved thread 4: /content/drive/MyDrive/agnos-rag/data/raw/thread_0004_20-Menieres-disease82220222-4-5-2_20250917-154704.html\n",
            "Saved thread 5: /content/drive/MyDrive/agnos-rag/data/raw/thread_0005_21-Cystitis21620241-2_20250917-154704.html\n"
          ]
        }
      ]
    },
    {
      "cell_type": "markdown",
      "source": [
        "#เชื่อมกับ 02"
      ],
      "metadata": {
        "id": "VXRLcajrVuhi"
      }
    },
    {
      "cell_type": "code",
      "source": [
        "!rm -rf /content/drive\n",
        "from google.colab import drive\n",
        "drive.mount('/content/drive', force_remount=True)\n"
      ],
      "metadata": {
        "colab": {
          "base_uri": "https://localhost:8080/"
        },
        "id": "YtFu74chddNv",
        "outputId": "6fafa418-59d4-406e-cf77-ce712641a102"
      },
      "execution_count": null,
      "outputs": [
        {
          "output_type": "stream",
          "name": "stdout",
          "text": [
            "Mounted at /content/drive\n"
          ]
        }
      ]
    },
    {
      "cell_type": "code",
      "source": [
        "!ls -la \"/content/drive/MyDrive/agnos-rag/code\"\n"
      ],
      "metadata": {
        "colab": {
          "base_uri": "https://localhost:8080/"
        },
        "id": "CgTytK36dpJr",
        "outputId": "e2ccdb49-6581-4bc1-ccb1-ac09d2da438f"
      },
      "execution_count": null,
      "outputs": [
        {
          "output_type": "stream",
          "name": "stdout",
          "text": [
            "total 4\n",
            "-rw------- 1 root root 3516 Sep 17 16:02 ingest_build_index.py\n"
          ]
        }
      ]
    },
    {
      "cell_type": "code",
      "source": [
        "import importlib.util, os\n",
        "\n",
        "MODULE_PATH = \"/content/drive/MyDrive/agnos-rag/code/ingest_build_index.py\"\n",
        "assert os.path.exists(MODULE_PATH), f\"ไม่พบไฟล์: {MODULE_PATH}\"\n",
        "\n",
        "spec = importlib.util.spec_from_file_location(\"ingest_build_index\", MODULE_PATH)\n",
        "mod = importlib.util.module_from_spec(spec)\n",
        "spec.loader.exec_module(mod)\n",
        "\n",
        "build_index_from_html = mod.build_index_from_html\n",
        "print(\" Loaded:\", build_index_from_html)\n",
        "\n",
        "RAW_DIR   = \"/content/drive/MyDrive/agnos-rag/data/raw\"\n",
        "INDEX_DIR = \"/content/drive/MyDrive/agnos-rag/index\"\n",
        "os.makedirs(INDEX_DIR, exist_ok=True)\n",
        "\n",
        "build_index_from_html(RAW_DIR, INDEX_DIR)\n"
      ],
      "metadata": {
        "colab": {
          "base_uri": "https://localhost:8080/",
          "height": 118,
          "referenced_widgets": [
            "984b7c9d767746038cc7c95a7e8c81fc",
            "aa684400f31146d3b78aebd5c292db70",
            "5862f5bea426483dac70fe9617498354",
            "939d2b37cbbe4a8c90c9f01370868d5e",
            "43f4dc3516cb4e66842273fdb1cebde9",
            "b985dc3eced141f985101e8f86162547",
            "4e74878022044d93804d8162947d99a4",
            "878b14d9b04c4cdfafdd2bcf999cf408",
            "a99bb53d75474f20a713cc0f8e0356d0",
            "54cd11dd499c47aabb5e0de71cca044a",
            "a9b54e16d7734582bd8d225e595f32e3"
          ]
        },
        "id": "iXktyZ8CeCYW",
        "outputId": "c2c7030a-e34e-4bcd-addd-5183b57ae2d0"
      },
      "execution_count": null,
      "outputs": [
        {
          "output_type": "stream",
          "name": "stdout",
          "text": [
            " Loaded: <function build_index_from_html at 0x7c6398684360>\n"
          ]
        },
        {
          "output_type": "display_data",
          "data": {
            "text/plain": [
              "Batches:   0%|          | 0/3 [00:00<?, ?it/s]"
            ],
            "application/vnd.jupyter.widget-view+json": {
              "version_major": 2,
              "version_minor": 0,
              "model_id": "984b7c9d767746038cc7c95a7e8c81fc"
            }
          },
          "metadata": {}
        },
        {
          "output_type": "stream",
          "name": "stdout",
          "text": [
            " Build index เสร็จ | posts=71 | chunks=71\n",
            "   -> /content/drive/MyDrive/agnos-rag/index/faiss.index\n",
            "   -> /content/drive/MyDrive/agnos-rag/index/meta.parquet\n"
          ]
        }
      ]
    },
    {
      "cell_type": "code",
      "source": [
        "import pandas as pd, faiss\n",
        "meta_path = \"/content/drive/MyDrive/agnos-rag/index/meta.parquet\"\n",
        "faiss_path = \"/content/drive/MyDrive/agnos-rag/index/faiss.index\"\n",
        "\n",
        "meta = pd.read_parquet(meta_path)\n",
        "idx  = faiss.read_index(faiss_path)\n",
        "\n",
        "print(\"rows(meta) =\", len(meta), \" | vectors(index) =\", idx.ntotal)\n",
        "meta.head(3)\n"
      ],
      "metadata": {
        "colab": {
          "base_uri": "https://localhost:8080/",
          "height": 160
        },
        "id": "07pE-7UIeE7d",
        "outputId": "cda6e4e7-cac0-4549-eaa3-d2fe0a348b70"
      },
      "execution_count": null,
      "outputs": [
        {
          "output_type": "stream",
          "name": "stdout",
          "text": [
            "rows(meta) = 71  | vectors(index) = 71\n"
          ]
        },
        {
          "output_type": "execute_result",
          "data": {
            "text/plain": [
              "   doc_id  chunk_id                                              title  \\\n",
              "0       0         0  หญิง|อายุ20ปีเยื่อหุ้มหัวใจอักเสบ (Acute peric...   \n",
              "1       1         0  หญิง|อายุ20ปีเยื่อหุ้มหัวใจอักเสบ (Acute peric...   \n",
              "2       2         0  หญิง|อายุ20ปีเยื่อหุ้มหัวใจอักเสบ (Acute peric...   \n",
              "\n",
              "                                                 url author        date  \\\n",
              "0  https://www.agnoshealth.com/forums/%E0%B9%80%E...   None   7/25/2022   \n",
              "1  https://www.agnoshealth.com/forums/%E0%B9%80%E...   None  11/26/2022   \n",
              "2  https://www.agnoshealth.com/forums/%E0%B9%80%E...   None    8/9/2022   \n",
              "\n",
              "                                       content_chunk  \n",
              "0  หญิง | อายุ 20 ปี เยื่อหุ้มหัวใจอักเสบ (Acute ...  \n",
              "1  หญิง | อายุ 16 ปี เยื่อหุ้มหัวใจอักเสบ (Acute ...  \n",
              "2  ชาย | อายุ 30 ปี เยื่อหุ้มหัวใจอักเสบ (Acute p...  "
            ],
            "text/html": [
              "\n",
              "  <div id=\"df-9e3b261f-d007-4d6f-94e2-d0afb6f38367\" class=\"colab-df-container\">\n",
              "    <div>\n",
              "<style scoped>\n",
              "    .dataframe tbody tr th:only-of-type {\n",
              "        vertical-align: middle;\n",
              "    }\n",
              "\n",
              "    .dataframe tbody tr th {\n",
              "        vertical-align: top;\n",
              "    }\n",
              "\n",
              "    .dataframe thead th {\n",
              "        text-align: right;\n",
              "    }\n",
              "</style>\n",
              "<table border=\"1\" class=\"dataframe\">\n",
              "  <thead>\n",
              "    <tr style=\"text-align: right;\">\n",
              "      <th></th>\n",
              "      <th>doc_id</th>\n",
              "      <th>chunk_id</th>\n",
              "      <th>title</th>\n",
              "      <th>url</th>\n",
              "      <th>author</th>\n",
              "      <th>date</th>\n",
              "      <th>content_chunk</th>\n",
              "    </tr>\n",
              "  </thead>\n",
              "  <tbody>\n",
              "    <tr>\n",
              "      <th>0</th>\n",
              "      <td>0</td>\n",
              "      <td>0</td>\n",
              "      <td>หญิง|อายุ20ปีเยื่อหุ้มหัวใจอักเสบ (Acute peric...</td>\n",
              "      <td>https://www.agnoshealth.com/forums/%E0%B9%80%E...</td>\n",
              "      <td>None</td>\n",
              "      <td>7/25/2022</td>\n",
              "      <td>หญิง | อายุ 20 ปี เยื่อหุ้มหัวใจอักเสบ (Acute ...</td>\n",
              "    </tr>\n",
              "    <tr>\n",
              "      <th>1</th>\n",
              "      <td>1</td>\n",
              "      <td>0</td>\n",
              "      <td>หญิง|อายุ20ปีเยื่อหุ้มหัวใจอักเสบ (Acute peric...</td>\n",
              "      <td>https://www.agnoshealth.com/forums/%E0%B9%80%E...</td>\n",
              "      <td>None</td>\n",
              "      <td>11/26/2022</td>\n",
              "      <td>หญิง | อายุ 16 ปี เยื่อหุ้มหัวใจอักเสบ (Acute ...</td>\n",
              "    </tr>\n",
              "    <tr>\n",
              "      <th>2</th>\n",
              "      <td>2</td>\n",
              "      <td>0</td>\n",
              "      <td>หญิง|อายุ20ปีเยื่อหุ้มหัวใจอักเสบ (Acute peric...</td>\n",
              "      <td>https://www.agnoshealth.com/forums/%E0%B9%80%E...</td>\n",
              "      <td>None</td>\n",
              "      <td>8/9/2022</td>\n",
              "      <td>ชาย | อายุ 30 ปี เยื่อหุ้มหัวใจอักเสบ (Acute p...</td>\n",
              "    </tr>\n",
              "  </tbody>\n",
              "</table>\n",
              "</div>\n",
              "    <div class=\"colab-df-buttons\">\n",
              "\n",
              "  <div class=\"colab-df-container\">\n",
              "    <button class=\"colab-df-convert\" onclick=\"convertToInteractive('df-9e3b261f-d007-4d6f-94e2-d0afb6f38367')\"\n",
              "            title=\"Convert this dataframe to an interactive table.\"\n",
              "            style=\"display:none;\">\n",
              "\n",
              "  <svg xmlns=\"http://www.w3.org/2000/svg\" height=\"24px\" viewBox=\"0 -960 960 960\">\n",
              "    <path d=\"M120-120v-720h720v720H120Zm60-500h600v-160H180v160Zm220 220h160v-160H400v160Zm0 220h160v-160H400v160ZM180-400h160v-160H180v160Zm440 0h160v-160H620v160ZM180-180h160v-160H180v160Zm440 0h160v-160H620v160Z\"/>\n",
              "  </svg>\n",
              "    </button>\n",
              "\n",
              "  <style>\n",
              "    .colab-df-container {\n",
              "      display:flex;\n",
              "      gap: 12px;\n",
              "    }\n",
              "\n",
              "    .colab-df-convert {\n",
              "      background-color: #E8F0FE;\n",
              "      border: none;\n",
              "      border-radius: 50%;\n",
              "      cursor: pointer;\n",
              "      display: none;\n",
              "      fill: #1967D2;\n",
              "      height: 32px;\n",
              "      padding: 0 0 0 0;\n",
              "      width: 32px;\n",
              "    }\n",
              "\n",
              "    .colab-df-convert:hover {\n",
              "      background-color: #E2EBFA;\n",
              "      box-shadow: 0px 1px 2px rgba(60, 64, 67, 0.3), 0px 1px 3px 1px rgba(60, 64, 67, 0.15);\n",
              "      fill: #174EA6;\n",
              "    }\n",
              "\n",
              "    .colab-df-buttons div {\n",
              "      margin-bottom: 4px;\n",
              "    }\n",
              "\n",
              "    [theme=dark] .colab-df-convert {\n",
              "      background-color: #3B4455;\n",
              "      fill: #D2E3FC;\n",
              "    }\n",
              "\n",
              "    [theme=dark] .colab-df-convert:hover {\n",
              "      background-color: #434B5C;\n",
              "      box-shadow: 0px 1px 3px 1px rgba(0, 0, 0, 0.15);\n",
              "      filter: drop-shadow(0px 1px 2px rgba(0, 0, 0, 0.3));\n",
              "      fill: #FFFFFF;\n",
              "    }\n",
              "  </style>\n",
              "\n",
              "    <script>\n",
              "      const buttonEl =\n",
              "        document.querySelector('#df-9e3b261f-d007-4d6f-94e2-d0afb6f38367 button.colab-df-convert');\n",
              "      buttonEl.style.display =\n",
              "        google.colab.kernel.accessAllowed ? 'block' : 'none';\n",
              "\n",
              "      async function convertToInteractive(key) {\n",
              "        const element = document.querySelector('#df-9e3b261f-d007-4d6f-94e2-d0afb6f38367');\n",
              "        const dataTable =\n",
              "          await google.colab.kernel.invokeFunction('convertToInteractive',\n",
              "                                                    [key], {});\n",
              "        if (!dataTable) return;\n",
              "\n",
              "        const docLinkHtml = 'Like what you see? Visit the ' +\n",
              "          '<a target=\"_blank\" href=https://colab.research.google.com/notebooks/data_table.ipynb>data table notebook</a>'\n",
              "          + ' to learn more about interactive tables.';\n",
              "        element.innerHTML = '';\n",
              "        dataTable['output_type'] = 'display_data';\n",
              "        await google.colab.output.renderOutput(dataTable, element);\n",
              "        const docLink = document.createElement('div');\n",
              "        docLink.innerHTML = docLinkHtml;\n",
              "        element.appendChild(docLink);\n",
              "      }\n",
              "    </script>\n",
              "  </div>\n",
              "\n",
              "\n",
              "    <div id=\"df-e18a1c00-520e-4163-8d06-d38d7e7e4b52\">\n",
              "      <button class=\"colab-df-quickchart\" onclick=\"quickchart('df-e18a1c00-520e-4163-8d06-d38d7e7e4b52')\"\n",
              "                title=\"Suggest charts\"\n",
              "                style=\"display:none;\">\n",
              "\n",
              "<svg xmlns=\"http://www.w3.org/2000/svg\" height=\"24px\"viewBox=\"0 0 24 24\"\n",
              "     width=\"24px\">\n",
              "    <g>\n",
              "        <path d=\"M19 3H5c-1.1 0-2 .9-2 2v14c0 1.1.9 2 2 2h14c1.1 0 2-.9 2-2V5c0-1.1-.9-2-2-2zM9 17H7v-7h2v7zm4 0h-2V7h2v10zm4 0h-2v-4h2v4z\"/>\n",
              "    </g>\n",
              "</svg>\n",
              "      </button>\n",
              "\n",
              "<style>\n",
              "  .colab-df-quickchart {\n",
              "      --bg-color: #E8F0FE;\n",
              "      --fill-color: #1967D2;\n",
              "      --hover-bg-color: #E2EBFA;\n",
              "      --hover-fill-color: #174EA6;\n",
              "      --disabled-fill-color: #AAA;\n",
              "      --disabled-bg-color: #DDD;\n",
              "  }\n",
              "\n",
              "  [theme=dark] .colab-df-quickchart {\n",
              "      --bg-color: #3B4455;\n",
              "      --fill-color: #D2E3FC;\n",
              "      --hover-bg-color: #434B5C;\n",
              "      --hover-fill-color: #FFFFFF;\n",
              "      --disabled-bg-color: #3B4455;\n",
              "      --disabled-fill-color: #666;\n",
              "  }\n",
              "\n",
              "  .colab-df-quickchart {\n",
              "    background-color: var(--bg-color);\n",
              "    border: none;\n",
              "    border-radius: 50%;\n",
              "    cursor: pointer;\n",
              "    display: none;\n",
              "    fill: var(--fill-color);\n",
              "    height: 32px;\n",
              "    padding: 0;\n",
              "    width: 32px;\n",
              "  }\n",
              "\n",
              "  .colab-df-quickchart:hover {\n",
              "    background-color: var(--hover-bg-color);\n",
              "    box-shadow: 0 1px 2px rgba(60, 64, 67, 0.3), 0 1px 3px 1px rgba(60, 64, 67, 0.15);\n",
              "    fill: var(--button-hover-fill-color);\n",
              "  }\n",
              "\n",
              "  .colab-df-quickchart-complete:disabled,\n",
              "  .colab-df-quickchart-complete:disabled:hover {\n",
              "    background-color: var(--disabled-bg-color);\n",
              "    fill: var(--disabled-fill-color);\n",
              "    box-shadow: none;\n",
              "  }\n",
              "\n",
              "  .colab-df-spinner {\n",
              "    border: 2px solid var(--fill-color);\n",
              "    border-color: transparent;\n",
              "    border-bottom-color: var(--fill-color);\n",
              "    animation:\n",
              "      spin 1s steps(1) infinite;\n",
              "  }\n",
              "\n",
              "  @keyframes spin {\n",
              "    0% {\n",
              "      border-color: transparent;\n",
              "      border-bottom-color: var(--fill-color);\n",
              "      border-left-color: var(--fill-color);\n",
              "    }\n",
              "    20% {\n",
              "      border-color: transparent;\n",
              "      border-left-color: var(--fill-color);\n",
              "      border-top-color: var(--fill-color);\n",
              "    }\n",
              "    30% {\n",
              "      border-color: transparent;\n",
              "      border-left-color: var(--fill-color);\n",
              "      border-top-color: var(--fill-color);\n",
              "      border-right-color: var(--fill-color);\n",
              "    }\n",
              "    40% {\n",
              "      border-color: transparent;\n",
              "      border-right-color: var(--fill-color);\n",
              "      border-top-color: var(--fill-color);\n",
              "    }\n",
              "    60% {\n",
              "      border-color: transparent;\n",
              "      border-right-color: var(--fill-color);\n",
              "    }\n",
              "    80% {\n",
              "      border-color: transparent;\n",
              "      border-right-color: var(--fill-color);\n",
              "      border-bottom-color: var(--fill-color);\n",
              "    }\n",
              "    90% {\n",
              "      border-color: transparent;\n",
              "      border-bottom-color: var(--fill-color);\n",
              "    }\n",
              "  }\n",
              "</style>\n",
              "\n",
              "      <script>\n",
              "        async function quickchart(key) {\n",
              "          const quickchartButtonEl =\n",
              "            document.querySelector('#' + key + ' button');\n",
              "          quickchartButtonEl.disabled = true;  // To prevent multiple clicks.\n",
              "          quickchartButtonEl.classList.add('colab-df-spinner');\n",
              "          try {\n",
              "            const charts = await google.colab.kernel.invokeFunction(\n",
              "                'suggestCharts', [key], {});\n",
              "          } catch (error) {\n",
              "            console.error('Error during call to suggestCharts:', error);\n",
              "          }\n",
              "          quickchartButtonEl.classList.remove('colab-df-spinner');\n",
              "          quickchartButtonEl.classList.add('colab-df-quickchart-complete');\n",
              "        }\n",
              "        (() => {\n",
              "          let quickchartButtonEl =\n",
              "            document.querySelector('#df-e18a1c00-520e-4163-8d06-d38d7e7e4b52 button');\n",
              "          quickchartButtonEl.style.display =\n",
              "            google.colab.kernel.accessAllowed ? 'block' : 'none';\n",
              "        })();\n",
              "      </script>\n",
              "    </div>\n",
              "\n",
              "    </div>\n",
              "  </div>\n"
            ],
            "application/vnd.google.colaboratory.intrinsic+json": {
              "type": "dataframe",
              "variable_name": "meta",
              "repr_error": "Out of range float values are not JSON compliant: nan"
            }
          },
          "metadata": {},
          "execution_count": 34
        }
      ]
    }
  ]
}